{
 "cells": [
  {
   "cell_type": "code",
   "execution_count": 6,
   "metadata": {},
   "outputs": [],
   "source": [
    "import numpy as np\n",
    "import matplotlib.pyplot as plt\n",
    "from IPython.display import clear_output\n",
    "import tex\n",
    "np.set_printoptions(suppress = True,precision = 9)\n",
    "\n",
    "\n",
    "candidates_s = [8, 12, 16, 20, 24, 28, 32]\n",
    "data = np.array([np.mean(np.mean(np.load(\"s_metrics\" + str(s) + \".npy\"), axis = 0), axis = 0) for s in candidates_s])\n",
    "\n",
    "plt.figure(figsize = [7, 7])\n",
    "\n",
    "plt.plot(candidates_s, data[:, 0], label = \"AR-LASSO with ZSC\", marker = \"o\", linewidth = 3)\n",
    "plt.plot(candidates_s, data[:, 1], label = \"AR-LASSO without ZSC\", marker = \"o\", linewidth = 3)\n",
    "plt.plot(candidates_s, data[:, 2], label = \"R-LASSO with ZSC\", marker = \"o\", linewidth = 3)\n",
    "plt.plot(candidates_s, data[:, 3], label = \"R-LASSO without ZSC\", marker = \"o\", linewidth = 3)\n",
    "plt.plot(candidates_s, data[:, 4], label = \"L1-HTP\", marker = \"o\", linewidth = 3)\n",
    "plt.plot(candidates_s, data[:, 7], label = \"L2-HTP\", marker = \"o\", linewidth = 3)\n",
    "plt.plot(candidates_s, data[:, 5], label = \"L1-L1\", marker = \"o\", linewidth = 3)\n",
    "\n",
    "plt.legend(fontsize = 15)\n",
    "plt.xlabel(\"Number of permutations s \\n (c)\", fontsize = 15)\n",
    "plt.ylabel(\"Relative reconstruction error\", fontsize = 15)\n",
    "plt.grid()\n",
    "plt.savefig(\"Figure1c.pdf\")"
   ]
  }
 ],
 "metadata": {
  "kernelspec": {
   "display_name": "Python 3.9.12 ('base')",
   "language": "python",
   "name": "python3"
  },
  "language_info": {
   "codemirror_mode": {
    "name": "ipython",
    "version": 3
   },
   "file_extension": ".py",
   "mimetype": "text/x-python",
   "name": "python",
   "nbconvert_exporter": "python",
   "pygments_lexer": "ipython3",
   "version": "3.9.12"
  },
  "orig_nbformat": 4,
  "vscode": {
   "interpreter": {
    "hash": "c3ef3c3b69eb4a068978a37d1ed65761832625a1a3ad8a2014edbf51e824b5a9"
   }
  }
 },
 "nbformat": 4,
 "nbformat_minor": 2
}
